{
 "cells": [
  {
   "cell_type": "markdown",
   "id": "08df73be-587f-49a4-80b5-3ddd0db2681b",
   "metadata": {},
   "source": [
    "# [Medical Insurance Cost Prediction](https://www.kaggle.com/mirichoi0218/insurance)"
   ]
  },
  {
   "cell_type": "code",
   "execution_count": 1,
   "id": "2bc00f3a-7839-4225-a46b-ae0b80f0c00b",
   "metadata": {},
   "outputs": [],
   "source": [
    "import pandas as pd\n",
    "import numpy as np"
   ]
  },
  {
   "cell_type": "code",
   "execution_count": null,
   "id": "06c2d20b-b28e-461f-a390-d68894c3de78",
   "metadata": {},
   "outputs": [],
   "source": []
  }
 ],
 "metadata": {
  "kernelspec": {
   "display_name": "Python [conda env:573]",
   "language": "python",
   "name": "conda-env-573-py"
  },
  "language_info": {
   "codemirror_mode": {
    "name": "ipython",
    "version": 3
   },
   "file_extension": ".py",
   "mimetype": "text/x-python",
   "name": "python",
   "nbconvert_exporter": "python",
   "pygments_lexer": "ipython3",
   "version": "3.8.6"
  }
 },
 "nbformat": 4,
 "nbformat_minor": 5
}
